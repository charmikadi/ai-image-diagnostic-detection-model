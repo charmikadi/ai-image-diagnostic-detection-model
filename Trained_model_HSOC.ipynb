{
  "cells": [
    {
      "cell_type": "code",
      "execution_count": null,
      "metadata": {
        "colab": {
          "base_uri": "https://localhost:8080/"
        },
        "id": "xDBGf-uFi0JQ",
        "outputId": "16fe7fd0-76b7-4377-f64a-61cfc53bc43b"
      },
      "outputs": [
        {
          "data": {
            "text/plain": [
              "['ai-imaging-diagnosis', '__MACOSX', 'ai-imaging-diagnosis.zip']"
            ]
          },
          "execution_count": 13,
          "metadata": {},
          "output_type": "execute_result"
        }
      ],
      "source": [
        "import zipfile\n",
        "import os\n",
        "\n",
        "# The file will be in /content/ after uploading via file panel\n",
        "with zipfile.ZipFile('/testing/ai-imaging-diagnosis.zip', 'r') as zip_ref:\n",
        "    zip_ref.extractall('/testing/')\n",
        "\n",
        "# List the contents\n",
        "os.listdir('/testing/')"
      ]
    },
    {
      "cell_type": "code",
      "execution_count": null,
      "metadata": {
        "colab": {
          "base_uri": "https://localhost:8080/"
        },
        "id": "34ko_gbWlJu6",
        "outputId": "d26b5fe1-6d4f-493c-d0df-d06d1161ba4d"
      },
      "outputs": [
        {
          "name": "stdout",
          "output_type": "stream",
          "text": [
            "Current directory: /testing/ai-imaging-diagnosis\n",
            "Files: ['.git', 'src', '.gitignore', 'README.md']\n"
          ]
        }
      ],
      "source": [
        "import os\n",
        "os.chdir('/testing/ai-imaging-diagnosis')\n",
        "print(\"Current directory:\", os.getcwd())\n",
        "print(\"Files:\", os.listdir('.'))"
      ]
    },
    {
      "cell_type": "code",
      "execution_count": null,
      "metadata": {
        "colab": {
          "base_uri": "https://localhost:8080/"
        },
        "id": "AYcjZ5gQlNcT",
        "outputId": "ff4c467a-56e3-4822-e183-91327fb3eced"
      },
      "outputs": [
        {
          "name": "stdout",
          "output_type": "stream",
          "text": [
            "Requirement already satisfied: torch in /usr/local/lib/python3.11/dist-packages (2.6.0+cu124)\n",
            "Requirement already satisfied: torchvision in /usr/local/lib/python3.11/dist-packages (0.21.0+cu124)\n",
            "Requirement already satisfied: tensorflow in /usr/local/lib/python3.11/dist-packages (2.19.0)\n",
            "Requirement already satisfied: keras in /usr/local/lib/python3.11/dist-packages (3.10.0)\n",
            "Requirement already satisfied: opencv-python in /usr/local/lib/python3.11/dist-packages (4.12.0.88)\n",
            "Requirement already satisfied: pillow in /usr/local/lib/python3.11/dist-packages (11.3.0)\n",
            "Requirement already satisfied: matplotlib in /usr/local/lib/python3.11/dist-packages (3.10.0)\n",
            "Requirement already satisfied: seaborn in /usr/local/lib/python3.11/dist-packages (0.13.2)\n",
            "Requirement already satisfied: scikit-learn in /usr/local/lib/python3.11/dist-packages (1.6.1)\n",
            "Requirement already satisfied: pandas in /usr/local/lib/python3.11/dist-packages (2.2.2)\n",
            "Requirement already satisfied: numpy in /usr/local/lib/python3.11/dist-packages (2.0.2)\n",
            "Requirement already satisfied: filelock in /usr/local/lib/python3.11/dist-packages (from torch) (3.6.0)\n",
            "Requirement already satisfied: typing-extensions>=4.10.0 in /usr/local/lib/python3.11/dist-packages (from torch) (4.14.1)\n",
            "Requirement already satisfied: networkx in /usr/local/lib/python3.11/dist-packages (from torch) (3.5)\n",
            "Requirement already satisfied: jinja2 in /usr/local/lib/python3.11/dist-packages (from torch) (3.1.6)\n",
            "Requirement already satisfied: fsspec in /usr/local/lib/python3.11/dist-packages (from torch) (2025.3.0)\n",
            "Successfully installed nvidia-cublas-cu12-12.4.5.8 nvidia-cuda-cupti-cu12-12.4.127 nvidia-cuda-nvrtc-cu12-12.4.127 nvidia-cuda-runtime-cu12-12.4.127 nvidia-cudnn-cu12-9.1.0.70 nvidia-cufft-cu12-11.2.1.3 nvidia-curand-cu12-10.3.5.147 nvidia-cusolver-cu12-11.6.1.9 nvidia-cusparse-cu12-12.3.1.170 nvidia-nccl-cu12-2.21.5 nvidia-nvjitlink-cu12-12.4.127\n"
          ]
        }
      ],
      "source": [
        "# Install common ML/AI libraries for imaging\n",
        "!pip install torch torchvision tensorflow keras opencv-python pillow matplotlib seaborn scikit-learn pandas numpy\n",
        "\n",
        "# If there's a requirements.txt file, install from it\n",
        "import os\n",
        "if os.path.exists('requirements.txt'):\n",
        "    !pip install -r requirements.txt"
      ]
    },
    {
      "cell_type": "code",
      "execution_count": null,
      "metadata": {
        "colab": {
          "base_uri": "https://localhost:8080/"
        },
        "id": "_8eI9BntpnQB",
        "outputId": "c8c6b9e0-5781-4791-d30a-bf4a58e80ea3"
      },
      "outputs": [
        {
          "name": "stdout",
          "output_type": "stream",
          "text": [
            "Mounted at /content/drive\n"
          ]
        }
      ],
      "source": [
        "from google.colab import drive\n",
        "drive.mount('/content/drive')"
      ]
    },
    {
      "cell_type": "code",
      "execution_count": null,
      "metadata": {
        "colab": {
          "base_uri": "https://localhost:8080/"
        },
        "id": "3hzlHAo4pztd",
        "outputId": "ea070bcc-0b79-4040-b447-8a1f3ce87b7b"
      },
      "outputs": [
        {
          "name": "stdout",
          "output_type": "stream",
          "text": [
            "Data path: /content/drive/MyDrive/brain/brain-images\n",
            "Path exists: True\n",
            "SUCCESS! Data folder found\n",
            "Contents: ['Testing', 'Training', 'Processed']\n"
          ]
        }
      ],
      "source": [
        "import os\n",
        "\n",
        "# Check if your brain folder exists\n",
        "data_path = '/content/drive/MyDrive/brain/brain-images'\n",
        "print(f\"Data path: {data_path}\")\n",
        "print(f\"Path exists: {os.path.exists(data_path)}\")\n",
        "\n",
        "if os.path.exists(data_path):\n",
        "    print(\"SUCCESS! Data folder found\")\n",
        "    print(\"Contents:\", os.listdir(data_path)[:5])  # First 5 items\n",
        "else:\n",
        "    print(\"Let's find your brain folder:\")\n",
        "    if os.path.exists('/content/drive/MyDrive'):\n",
        "        print(\"MyDrive contents:\", os.listdir('/content/drive/MyDrive'))"
      ]
    },
    {
      "cell_type": "code",
      "execution_count": null,
      "metadata": {
        "colab": {
          "base_uri": "https://localhost:8080/"
        },
        "id": "xTBruQfup-l6",
        "outputId": "252d1eb8-cb92-49d6-d174-735c08974804"
      },
      "outputs": [
        {
          "name": "stdout",
          "output_type": "stream",
          "text": [
            "Current directory: /testing/ai-imaging-diagnosis\n",
            "Project files: ['.git', 'src', '.gitignore', 'README.md']\n"
          ]
        }
      ],
      "source": [
        "# Navigate to your AI project\n",
        "import os\n",
        "os.chdir('/testing/ai-imaging-diagnosis')\n",
        "print(\"Current directory:\", os.getcwd())\n",
        "print(\"Project files:\", os.listdir('.'))"
      ]
    },
    {
      "cell_type": "code",
      "execution_count": null,
      "metadata": {
        "colab": {
          "base_uri": "https://localhost:8080/"
        },
        "id": "VohzKL2Kp_sS",
        "outputId": "9a0a71a0-8dec-44bd-ed67-40d6c7101f49"
      },
      "outputs": [
        {
          "name": "stdout",
          "output_type": "stream",
          "text": [
            "Requirement already satisfied: torch in /usr/local/lib/python3.11/dist-packages (2.6.0+cu124)\n",
            "No requirements.txt found, using standard ML libraries\n"
          ]
        }
      ],
      "source": [
        "# Install required dependencies\n",
        "!pip install torch torchvision tensorflow keras opencv-python pillow matplotlib seaborn scikit-learn pandas numpy\n",
        "\n",
        "# Check if there's a requirements file\n",
        "if os.path.exists('requirements.txt'):\n",
        "    !pip install -r requirements.txt\n",
        "    print(\"Installed requirements from requirements.txt\")\n",
        "else:\n",
        "    print(\"No requirements.txt found, using standard ML libraries\")"
      ]
    },
    {
      "cell_type": "code",
      "execution_count": null,
      "metadata": {
        "colab": {
          "base_uri": "https://localhost:8080/"
        },
        "id": "WRnTzoBRqIZ9",
        "outputId": "78e5edb4-8471-474f-d68b-1edc9d2ece6e"
      },
      "outputs": [
        {
          "name": "stdout",
          "output_type": "stream",
          "text": [
            "\n",
            "Training folder:\n",
            "  .DS_Store\n",
            "  meningioma: 1339 files\n",
            "  pituitary: 1457 files\n",
            "  notumor: 1595 files\n",
            "  glioma: 1321 files\n",
            "\n",
            "Testing folder:\n",
            "  .DS_Store\n",
            "  pituitary: 300 files\n",
            "  notumor: 405 files\n",
            "  meningioma: 306 files\n",
            "  glioma: 300 files\n",
            "\n",
            "Processed folder:\n",
            "  Training: 5712 files\n",
            "  Testing: 1311 files\n",
            "  image_labels.csv\n"
          ]
        }
      ],
      "source": [
        "# Let's examine your dataset organization\n",
        "data_path = '/content/drive/MyDrive/brain/brain-images'\n",
        "\n",
        "for folder in ['Training', 'Testing', 'Processed']:\n",
        "    folder_path = os.path.join(data_path, folder)\n",
        "    if os.path.exists(folder_path):\n",
        "        print(f\"\\n{folder} folder:\")\n",
        "        items = os.listdir(folder_path)\n",
        "        for item in items[:10]:  # Show first 10 items\n",
        "            item_path = os.path.join(folder_path, item)\n",
        "            if os.path.isdir(item_path):\n",
        "                count = len(os.listdir(item_path))\n",
        "                print(f\"  {item}: {count} files\")\n",
        "            else:\n",
        "                print(f\"  {item}\")\n",
        "        if len(items) > 10:\n",
        "            print(f\"  ... and {len(items)-10} more items\")"
      ]
    },
    {
      "cell_type": "code",
      "execution_count": null,
      "metadata": {
        "colab": {
          "base_uri": "https://localhost:8080/"
        },
        "id": "DzZHDTKgqq8R",
        "outputId": "ce522a97-5b1e-4fe2-9e42-3a2d87718f27"
      },
      "outputs": [
        {
          "name": "stdout",
          "output_type": "stream",
          "text": [
            "Verifying updated paths:\n",
            "Base directory: /content/drive/MyDrive/brain/brain-images\n",
            "Training directory: /content/drive/MyDrive/brain/brain-images/Training\n",
            "Testing directory: /content/drive/MyDrive/brain/brain-images/Testing\n",
            "\n",
            "Path verification:\n",
            "Base exists: True\n",
            "Training exists: True\n",
            "Testing exists: True\n",
            "Training classes: ['.DS_Store', 'meningioma', 'pituitary', 'notumor', 'glioma']\n"
          ]
        }
      ],
      "source": [
        "# Remove the old config from memory and import fresh\n",
        "import sys\n",
        "if 'config' in sys.modules:\n",
        "    del sys.modules['config']\n",
        "\n",
        "# Now import the updated config\n",
        "import config\n",
        "import os\n",
        "\n",
        "print(\"Verifying updated paths:\")\n",
        "print(f\"Base directory: {config.base_dir}\")\n",
        "print(f\"Training directory: {config.train_dir}\")\n",
        "print(f\"Testing directory: {config.test_dir}\")\n",
        "\n",
        "print(f\"\\nPath verification:\")\n",
        "print(f\"Base exists: {os.path.exists(str(config.base_dir))}\")\n",
        "print(f\"Training exists: {os.path.exists(str(config.train_dir))}\")\n",
        "print(f\"Testing exists: {os.path.exists(str(config.test_dir))}\")\n",
        "\n",
        "if os.path.exists(str(config.train_dir)):\n",
        "    print(f\"Training classes: {os.listdir(str(config.train_dir))}\")"
      ]
    },
    {
      "cell_type": "code",
      "execution_count": null,
      "metadata": {
        "colab": {
          "base_uri": "https://localhost:8080/"
        },
        "id": "H3PYkVRErmly",
        "outputId": "052d4ead-08a0-4dcc-f390-d09eec9f99ed"
      },
      "outputs": [
        {
          "name": "stdout",
          "output_type": "stream",
          "text": [
            "Requirement already satisfied: torch in /usr/local/lib/python3.11/dist-packages (2.6.0+cu124)\n",
            "Dependencies installed!\n"
          ]
        }
      ],
      "source": [
        "# Install required packages for deep learning\n",
        "!pip install torch torchvision pillow matplotlib seaborn scikit-learn pandas numpy\n",
        "\n",
        "print(\"Dependencies installed!\")"
      ]
    },
    {
      "cell_type": "code",
      "execution_count": null,
      "metadata": {
        "colab": {
          "base_uri": "https://localhost:8080/"
        },
        "id": "eEYcRXTNrpA5",
        "outputId": "6c0289fe-8108-4cd2-92ee-99212b56e359"
      },
      "outputs": [
        {
          "name": "stdout",
          "output_type": "stream",
          "text": [
            "Device: cpu\n",
            "GPU available: False\n"
          ]
        }
      ],
      "source": [
        "import torch\n",
        "print(f\"Device: {config.device}\")\n",
        "print(f\"GPU available: {torch.cuda.is_available()}\")\n",
        "if torch.cuda.is_available():\n",
        "    print(f\"GPU name: {torch.cuda.get_device_name(0)}\")\n",
        "\n",
        "# Enable GPU in Colab if not already enabled:\n",
        "# Go to Runtime → Change runtime type → Hardware accelerator → GPU"
      ]
    },
    {
      "cell_type": "code",
      "execution_count": null,
      "metadata": {
        "colab": {
          "base_uri": "https://localhost:8080/"
        },
        "id": "872uYJzNr6o5",
        "outputId": "9e97aaf7-1ca1-4355-89c1-98f5c9a1cc75"
      },
      "outputs": [
        {
          "name": "stdout",
          "output_type": "stream",
          "text": [
            "Drive already mounted at /content/drive; to attempt to forcibly remount, call drive.mount(\"/content/drive\", force_remount=True).\n",
            "Project extracted\n",
            "Contents of /content/testing/: ['ai-imaging-diagnosis', '__MACOSX', 'ai-imaging-diagnosis.zip']\n",
            "Navigated to project src folder\n",
            "Current directory: /content/testing/ai-imaging-diagnosis/src\n",
            "Project files: ['main.py', 'dataset.py', 'evaluate.py', 'model.py', 'config.py', 'utils.py', 'train.py']\n",
            "\n",
            "GPU Status after restart:\n",
            "Device: cuda\n",
            "GPU available: True\n",
            "GPU name: Tesla T4\n",
            "GPU memory: 15.8 GB\n",
            "\n",
            "Data path verification:\n",
            "Training path exists: False\n",
            "Testing path exists: False\n"
          ]
        }
      ],
      "source": [
        "# 1. Re-mount Google Drive\n",
        "from google.colab import drive\n",
        "drive.mount('/content/drive')\n",
        "\n",
        "# 2. Re-extract your project (using the correct path)\n",
        "import zipfile\n",
        "import os\n",
        "\n",
        "# The zip file is in /content/testing/ (not /testing/)\n",
        "with zipfile.ZipFile('/content/testing/ai-imaging-diagnosis.zip', 'r') as zip_ref:\n",
        "    zip_ref.extractall('/content/testing/')\n",
        "\n",
        "print(\"Project extracted\")\n",
        "print(\"Contents of /content/testing/:\", os.listdir('/content/testing/'))\n",
        "\n",
        "# 3. Navigate to your project src folder\n",
        "os.chdir('/content/testing/ai-imaging-diagnosis/src')\n",
        "print(\"Navigated to project src folder\")\n",
        "print(\"Current directory:\", os.getcwd())\n",
        "print(\"Project files:\", os.listdir('.'))\n",
        "\n",
        "# 4. Reload config to check GPU\n",
        "import sys\n",
        "if 'config' in sys.modules:\n",
        "    del sys.modules['config']\n",
        "\n",
        "# Import fresh config\n",
        "import config\n",
        "import torch\n",
        "\n",
        "print(f\"\\nGPU Status after restart:\")\n",
        "print(f\"Device: {config.device}\")\n",
        "print(f\"GPU available: {torch.cuda.is_available()}\")\n",
        "if torch.cuda.is_available():\n",
        "    print(f\"GPU name: {torch.cuda.get_device_name(0)}\")\n",
        "    print(f\"GPU memory: {torch.cuda.get_device_properties(0).total_memory / 1e9:.1f} GB\")\n",
        "else:\n",
        "    print(\"Warning: Still on CPU - make sure you enabled GPU in Runtime settings\")\n",
        "\n",
        "# 5. Verify your data paths still work\n",
        "print(f\"\\nData path verification:\")\n",
        "print(f\"Training path exists: {os.path.exists(str(config.train_dir))}\")\n",
        "print(f\"Testing path exists: {os.path.exists(str(config.test_dir))}\")"
      ]
    },
    {
      "cell_type": "code",
      "execution_count": null,
      "metadata": {
        "colab": {
          "base_uri": "https://localhost:8080/"
        },
        "id": "M-yYVD12tRz2",
        "outputId": "a0d4004d-a8d8-4fa5-e039-dfdb15052e52"
      },
      "outputs": [
        {
          "name": "stdout",
          "output_type": "stream",
          "text": [
            "Current config content:\n",
            "from pathlib import Path\n",
            "import torch\n",
            "\n",
            "# Path setup\n",
            "base_dir = Path('/content/drive/My Drive/brain-images')\n",
            "train_dir = base_dir / 'Processed' / 'Training'\n",
            "test_dir = base_dir / 'Processed' / 'Testing'\n",
            "model_save_path = Path('/content/model.pth')\n",
            "\n",
            "# Training parameters\n",
            "batch_size = 32\n",
            "epochs = 10\n",
            "lr = 0.001\n",
            "image_size = (224, 224)\n",
            "num_classes = 4  # adjust if needed (this is for brain images)\n",
            "\n",
            "# device setup\n",
            "device = torch.device('cuda' if torch.cuda.is_available() else 'cpu')\n",
            "\n",
            "==================================================\n",
            "FIXING CONFIG PATHS...\n",
            "==================================================\n",
            "Config updated!\n"
          ]
        }
      ],
      "source": [
        "# The config got reset when we re-extracted. Let's fix it again\n",
        "print(\"Current config content:\")\n",
        "with open('config.py', 'r') as f:\n",
        "    current_config = f.read()\n",
        "print(current_config)\n",
        "\n",
        "print(\"\\n\" + \"=\"*50)\n",
        "print(\"FIXING CONFIG PATHS...\")\n",
        "print(\"=\"*50)\n",
        "\n",
        "# Write the correct config\n",
        "correct_config = '''from pathlib import Path\n",
        "import torch\n",
        "\n",
        "# Path setup - Correct paths for your data\n",
        "base_dir = Path('/content/drive/MyDrive/brain/brain-images')\n",
        "train_dir = base_dir / 'Training'\n",
        "test_dir = base_dir / 'Testing'\n",
        "model_save_path = Path('/content/model.pth')\n",
        "\n",
        "# Training parameters\n",
        "batch_size = 32\n",
        "epochs = 10\n",
        "lr = 0.001\n",
        "image_size = (224, 224)\n",
        "num_classes = 4  # meningioma, pituitary, notumor, glioma\n",
        "\n",
        "# Device setup\n",
        "device = torch.device('cuda' if torch.cuda.is_available() else 'cpu')\n",
        "'''\n",
        "\n",
        "# Write the corrected config\n",
        "with open('config.py', 'w') as f:\n",
        "    f.write(correct_config)\n",
        "\n",
        "print(\"Config updated!\")"
      ]
    },
    {
      "cell_type": "code",
      "execution_count": null,
      "metadata": {
        "colab": {
          "base_uri": "https://localhost:8080/",
          "height": 393
        },
        "id": "KESrIZLztVQr",
        "outputId": "a925e453-60d5-444d-e9a5-417d726f7bd5"
      },
      "outputs": [
        {
          "ename": "ModuleNotFoundError",
          "evalue": "No module named 'config'",
          "output_type": "error",
          "traceback": [
            "\u001b[0;31m---------------------------------------------------------------------------\u001b[0m",
            "\u001b[0;31mModuleNotFoundError\u001b[0m                       Traceback (most recent call last)",
            "\u001b[0;32m/tmp/ipython-input-2514250299.py\u001b[0m in \u001b[0;36m<cell line: 0>\u001b[0;34m()\u001b[0m\n\u001b[1;32m      5\u001b[0m \u001b[0;34m\u001b[0m\u001b[0m\n\u001b[1;32m      6\u001b[0m \u001b[0;31m# Import fresh config\u001b[0m\u001b[0;34m\u001b[0m\u001b[0;34m\u001b[0m\u001b[0m\n\u001b[0;32m----> 7\u001b[0;31m \u001b[0;32mimport\u001b[0m \u001b[0mconfig\u001b[0m\u001b[0;34m\u001b[0m\u001b[0;34m\u001b[0m\u001b[0m\n\u001b[0m\u001b[1;32m      8\u001b[0m \u001b[0;32mimport\u001b[0m \u001b[0mos\u001b[0m\u001b[0;34m\u001b[0m\u001b[0;34m\u001b[0m\u001b[0m\n\u001b[1;32m      9\u001b[0m \u001b[0;34m\u001b[0m\u001b[0m\n",
            "\u001b[0;31mModuleNotFoundError\u001b[0m: No module named 'config'",
            "",
            "\u001b[0;31m---------------------------------------------------------------------------\u001b[0;32m\nNOTE: If your import is failing due to a missing package, you can\nmanually install dependencies using either !pip or !apt.\n\nTo view examples of installing some common dependencies, click the\n\"Open Examples\" button below.\n\u001b[0;31m---------------------------------------------------------------------------\u001b[0m\n"
          ]
        }
      ],
      "source": [
        "# Remove old config from memory and reload\n",
        "import sys\n",
        "if 'config' in sys.modules:\n",
        "    del sys.modules['config']\n",
        "\n",
        "# Import fresh config\n",
        "import config\n",
        "import os\n",
        "\n",
        "print(f\"Updated path verification:\")\n",
        "print(f\"Base dir: {config.base_dir}\")\n",
        "print(f\"Training dir: {config.train_dir}\")\n",
        "print(f\"Testing dir: {config.test_dir}\")\n",
        "\n",
        "print(f\"\\nPath existence check:\")\n",
        "print(f\"Training path exists: {os.path.exists(str(config.train_dir))}\")\n",
        "print(f\"Testing path exists: {os.path.exists(str(config.test_dir))}\")\n",
        "\n",
        "if os.path.exists(str(config.train_dir)):\n",
        "    print(f\"Training classes: {[d for d in os.listdir(str(config.train_dir)) if d != '.DS_Store']}\")\n",
        "\n",
